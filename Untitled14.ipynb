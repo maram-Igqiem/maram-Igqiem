{
  "nbformat": 4,
  "nbformat_minor": 0,
  "metadata": {
    "colab": {
      "private_outputs": true,
      "provenance": [],
      "mount_file_id": "1eeOYaLtjMAb_KCiAdpuW0cb2xoYf3X_3",
      "authorship_tag": "ABX9TyMe3FDiP8LrpRk9uDe7zyRL",
      "include_colab_link": true
    },
    "kernelspec": {
      "name": "python3",
      "display_name": "Python 3"
    },
    "language_info": {
      "name": "python"
    }
  },
  "cells": [
    {
      "cell_type": "markdown",
      "metadata": {
        "id": "view-in-github",
        "colab_type": "text"
      },
      "source": [
        "<a href=\"https://colab.research.google.com/github/maram-Igqiem/maram-Igqiem/blob/main/Untitled14.ipynb\" target=\"_parent\"><img src=\"https://colab.research.google.com/assets/colab-badge.svg\" alt=\"Open In Colab\"/></a>"
      ]
    },
    {
      "cell_type": "code",
      "execution_count": null,
      "metadata": {
        "id": "ggVtcTw0yXDI"
      },
      "outputs": [],
      "source": [
        "import numpy as np\n",
        "import pandas as pd\n",
        "import matplotlib.pyplot as plt\n",
        "import seaborn as sns\n",
        "from sklearn.linear_model import LinearRegression, Ridge, Lasso\n",
        "from sklearn.model_selection import train_test_split\n",
        "from sklearn.metrics import mean_squared_error, r2_score\n",
        "from sklearn.preprocessing import LabelEncoder\n",
        "from sklearn.model_selection import train_test_split, GridSearchCV, cross_val_score\n",
        "from sklearn.preprocessing import PolynomialFeatures\n",
        "from sklearn.ensemble import RandomForestRegressor\n",
        "from hyperopt import hp, fmin, tpe, Trials, STATUS_OK\n",
        "from sklearn.ensemble import GradientBoostingRegressor\n",
        "from sklearn.tree import DecisionTreeRegressor\n",
        "from sklearn.svm import SVR"
      ]
    },
    {
      "cell_type": "code",
      "source": [
        "data = pd.read_csv(\"/content/drive/MyDrive/SA_Aqar.csv/SA_Aqar.csv\")"
      ],
      "metadata": {
        "id": "zpqWpM_Cy00w"
      },
      "execution_count": null,
      "outputs": []
    },
    {
      "cell_type": "code",
      "source": [
        "data.shape"
      ],
      "metadata": {
        "id": "pR3SJogZGttf"
      },
      "execution_count": null,
      "outputs": []
    },
    {
      "cell_type": "code",
      "source": [
        "data.head()"
      ],
      "metadata": {
        "id": "3l0PF8RZ0BC6"
      },
      "execution_count": null,
      "outputs": []
    },
    {
      "cell_type": "code",
      "source": [
        "data.info()"
      ],
      "metadata": {
        "id": "9E1YT7hR0CZQ"
      },
      "execution_count": null,
      "outputs": []
    },
    {
      "cell_type": "code",
      "source": [
        "data.describe()"
      ],
      "metadata": {
        "id": "cPN6YZJ60Io2"
      },
      "execution_count": null,
      "outputs": []
    },
    {
      "cell_type": "code",
      "source": [
        "data.columns"
      ],
      "metadata": {
        "id": "VGFCngdy0hy3"
      },
      "execution_count": null,
      "outputs": []
    },
    {
      "cell_type": "code",
      "source": [
        "data['city'].unique()"
      ],
      "metadata": {
        "id": "SGBoD0E21p_D"
      },
      "execution_count": null,
      "outputs": []
    },
    {
      "cell_type": "code",
      "source": [
        "data['district'].unique()"
      ],
      "metadata": {
        "id": "34cN6jAt2NTF"
      },
      "execution_count": null,
      "outputs": []
    },
    {
      "cell_type": "code",
      "source": [
        "data['front'].unique()"
      ],
      "metadata": {
        "id": "l5FaaSKn2o4K"
      },
      "execution_count": null,
      "outputs": []
    },
    {
      "cell_type": "code",
      "source": [
        "data['size'].unique()"
      ],
      "metadata": {
        "id": "HiOYj6hI7Qhp"
      },
      "execution_count": null,
      "outputs": []
    },
    {
      "cell_type": "code",
      "source": [
        "data['property_age'].unique()"
      ],
      "metadata": {
        "id": "fErwfCB-7bnp"
      },
      "execution_count": null,
      "outputs": []
    },
    {
      "cell_type": "code",
      "source": [
        "data['bedrooms'].unique()"
      ],
      "metadata": {
        "id": "VC7cl1O98V64"
      },
      "execution_count": null,
      "outputs": []
    },
    {
      "cell_type": "code",
      "source": [
        "data['bathrooms'].unique()"
      ],
      "metadata": {
        "id": "3nEcSc0L8fuk"
      },
      "execution_count": null,
      "outputs": []
    },
    {
      "cell_type": "code",
      "source": [
        "data['livingrooms'].unique()"
      ],
      "metadata": {
        "id": "7MkxjnpA8nNt"
      },
      "execution_count": null,
      "outputs": []
    },
    {
      "cell_type": "code",
      "source": [
        "data['kitchen'].unique()"
      ],
      "metadata": {
        "id": "hs9oCDri8yUA"
      },
      "execution_count": null,
      "outputs": []
    },
    {
      "cell_type": "code",
      "source": [
        "data['garage'].unique()"
      ],
      "metadata": {
        "id": "-ll56CQG8__X"
      },
      "execution_count": null,
      "outputs": []
    },
    {
      "cell_type": "code",
      "source": [
        "data['driver_room'].unique()"
      ],
      "metadata": {
        "id": "oPPUmapo9GDu"
      },
      "execution_count": null,
      "outputs": []
    },
    {
      "cell_type": "code",
      "source": [
        "data['maid_room'].unique()"
      ],
      "metadata": {
        "id": "HBw-rbI99MJ6"
      },
      "execution_count": null,
      "outputs": []
    },
    {
      "cell_type": "code",
      "source": [
        "data['furnished'].unique()"
      ],
      "metadata": {
        "id": "faac0MMb9ckf"
      },
      "execution_count": null,
      "outputs": []
    },
    {
      "cell_type": "code",
      "source": [
        "data['ac'].unique()"
      ],
      "metadata": {
        "id": "Ql5_Lr149V3k"
      },
      "execution_count": null,
      "outputs": []
    },
    {
      "cell_type": "code",
      "source": [
        "data['roof'].unique()"
      ],
      "metadata": {
        "id": "IHC9YpFRiY-4"
      },
      "execution_count": null,
      "outputs": []
    },
    {
      "cell_type": "code",
      "source": [
        "data['pool'].unique()"
      ],
      "metadata": {
        "id": "EHsD9VwxigSR"
      },
      "execution_count": null,
      "outputs": []
    },
    {
      "cell_type": "code",
      "source": [
        "data['frontyard'].unique()"
      ],
      "metadata": {
        "id": "YuR4tuErjJEy"
      },
      "execution_count": null,
      "outputs": []
    },
    {
      "cell_type": "code",
      "source": [
        "data['basement'].unique()"
      ],
      "metadata": {
        "id": "560BpivWjvxD"
      },
      "execution_count": null,
      "outputs": []
    },
    {
      "cell_type": "code",
      "source": [
        "data['duplex'].unique()"
      ],
      "metadata": {
        "id": "1jbtN_fUj1zM"
      },
      "execution_count": null,
      "outputs": []
    },
    {
      "cell_type": "code",
      "source": [
        "data['stairs'].unique()"
      ],
      "metadata": {
        "id": "tAGYmZX7j26v"
      },
      "execution_count": null,
      "outputs": []
    },
    {
      "cell_type": "code",
      "source": [
        "data['elevator'].unique()"
      ],
      "metadata": {
        "id": "aaSkjmhkj3x-"
      },
      "execution_count": null,
      "outputs": []
    },
    {
      "cell_type": "code",
      "source": [
        "data['fireplace'].unique()"
      ],
      "metadata": {
        "id": "YGbgNcLCj4rN"
      },
      "execution_count": null,
      "outputs": []
    },
    {
      "cell_type": "code",
      "source": [
        "data['price'].unique()"
      ],
      "metadata": {
        "id": "dj1FBmzsj5c9"
      },
      "execution_count": null,
      "outputs": []
    },
    {
      "cell_type": "code",
      "source": [
        "correlation_matrix = data.corr()"
      ],
      "metadata": {
        "id": "6TjGtMfXka0u"
      },
      "execution_count": null,
      "outputs": []
    },
    {
      "cell_type": "code",
      "source": [
        "cityvalues = data['city'].value_counts()\n",
        "cityLabel= ['Khobar', \"Riyadh\", \"Dammam\", \"Jeddah\"]\n",
        "mycolors = [\"#345251\", \"#369E9B\", \"#48D1CC\", \"#8BD9D6\"]\n",
        "myexplode = [0.2, 0, 0, 0]\n",
        "plt.pie(cityvalues, labels = cityLabel, explode = myexplode, shadow = True, colors = mycolors)\n",
        "plt.legend(title = 'City')\n",
        "plt.show()"
      ],
      "metadata": {
        "id": "gZadDBVuQ-eK"
      },
      "execution_count": null,
      "outputs": []
    },
    {
      "cell_type": "code",
      "source": [
        "front = data['front'].value_counts().head(10).index\n",
        "plt.figure(figsize=(9, 5))\n",
        "custom_palette = ['#345251', '#369E9B', '#48D1CC', '#8BD9D6', '#1C5250', '#456B6A', '#659E9C', '#70AEAC', '#246B69', '#4E7A79']\n",
        "sns.countplot(data=data, y='front', order=front, palette=custom_palette)\n",
        "plt.title('Front')\n",
        "plt.xlabel('No. of Front')\n",
        "plt.ylabel('Front Name');\n",
        "custom_labels = ['North', 'East', 'West', 'South', 'Northeast', 'South East', 'Southwest', 'Northwest', '3 streets', '4 streets']\n",
        "plt.yticks(range(len(custom_labels)), custom_labels)\n",
        "plt.show()"
      ],
      "metadata": {
        "id": "qAhzYuyiR8bl"
      },
      "execution_count": null,
      "outputs": []
    },
    {
      "cell_type": "code",
      "source": [
        "filtered_data = data[(data['size'] >= 200) & (data['size'] <= 1000)]"
      ],
      "metadata": {
        "id": "RX_ERwqdgrU9"
      },
      "execution_count": null,
      "outputs": []
    },
    {
      "cell_type": "code",
      "source": [
        "plt.figure(figsize=(8, 6))\n",
        "sns.kdeplot(data=filtered_data['size'], color='skyblue')"
      ],
      "metadata": {
        "id": "MzWhHFK2cbra"
      },
      "execution_count": null,
      "outputs": []
    },
    {
      "cell_type": "code",
      "source": [
        "filtered_data['size'].value_counts().sort_index().plot.line()"
      ],
      "metadata": {
        "id": "_QMMC8o7gP9d"
      },
      "execution_count": null,
      "outputs": []
    },
    {
      "cell_type": "code",
      "source": [
        "data['property_age'].value_counts().sort_index().plot.line()"
      ],
      "metadata": {
        "id": "tD6UMtVehRC7"
      },
      "execution_count": null,
      "outputs": []
    },
    {
      "cell_type": "code",
      "source": [
        "bedroomsvalues = data['bedrooms'].value_counts()\n",
        "mycolors = [\"#345251\", \"#369E9B\", \"#48D1CC\", \"#8BD9D6\",'#1C5250', '#456B6A', '#659E9C',]\n",
        "myexplode = [0.2, 0, 0, 0, 0, 0, 0]\n",
        "plt.pie(bedroomsvalues.values, labels=bedroomsvalues.index,  colors = mycolors, explode = myexplode, shadow = True)\n",
        "plt.legend(title = 'No. of Bedrooms')\n",
        "plt.show()"
      ],
      "metadata": {
        "id": "u3iRZwmsiJFb"
      },
      "execution_count": null,
      "outputs": []
    },
    {
      "cell_type": "code",
      "source": [
        "bathvalues = data['bathrooms'].value_counts()\n",
        "mycolors = [\"#345251\", \"#369E9B\", \"#48D1CC\", \"#8BD9D6\",'#1C5250']\n",
        "myexplode = [0, 0.2, 0, 0, 0]\n",
        "plt.pie(bathvalues.values, labels=bathvalues.index,  colors = mycolors, explode = myexplode, shadow = True)\n",
        "plt.legend(title = 'No. of Bathrooms')\n",
        "plt.show()"
      ],
      "metadata": {
        "id": "p7ZJqJu6lk5a"
      },
      "execution_count": null,
      "outputs": []
    },
    {
      "cell_type": "code",
      "source": [
        "livingvalues = data['livingrooms'].value_counts()\n",
        "mycolors = [\"#345251\", \"#369E9B\", \"#48D1CC\", \"#8BD9D6\",'#1C5250']\n",
        "myexplode = [0.02, 0.01, 0.03, 0.04, 0.1]\n",
        "plt.pie(livingvalues.values, labels=livingvalues.index,  colors = mycolors, explode = myexplode, shadow = True)\n",
        "plt.legend(title = 'No. of Bathrooms')\n",
        "plt.show()"
      ],
      "metadata": {
        "id": "c2kmg94gl0Rm"
      },
      "execution_count": null,
      "outputs": []
    },
    {
      "cell_type": "code",
      "source": [
        "kitchenvalues = data['kitchen'].value_counts()\n",
        "mycolors = [\"#345251\", \"#369E9B\"]\n",
        "myexplode = [0.2, 0.01]\n",
        "plt.pie(kitchenvalues.values, labels=kitchenvalues.index,  colors = mycolors, explode = myexplode, shadow = True)\n",
        "plt.legend(title = 'No. of kitchen')\n",
        "plt.show()"
      ],
      "metadata": {
        "id": "dHLzI6iym39I"
      },
      "execution_count": null,
      "outputs": []
    },
    {
      "cell_type": "code",
      "source": [
        "garagevalues = data['garage'].value_counts()\n",
        "mycolors = [\"#369E9B\", \"#345251\"]\n",
        "myexplode = [0.2, 0.01]\n",
        "plt.pie(garagevalues.values, labels=garagevalues.index,  colors = mycolors, explode = myexplode, shadow = True)\n",
        "plt.legend(title = 'No. of garage')\n",
        "plt.show()"
      ],
      "metadata": {
        "id": "-LuKURcdsoI-"
      },
      "execution_count": null,
      "outputs": []
    },
    {
      "cell_type": "code",
      "source": [
        "drivervalues = data['driver_room'].value_counts()\n",
        "mycolors = [\"#369E9B\", \"#345251\"]\n",
        "myexplode = [0, 0.05]\n",
        "plt.pie(drivervalues.values, labels=drivervalues.index,  colors = mycolors, explode = myexplode, shadow = True)\n",
        "plt.legend(title = 'No. of Driver Room')\n",
        "plt.show()"
      ],
      "metadata": {
        "id": "HGExs1Frs1Sr"
      },
      "execution_count": null,
      "outputs": []
    },
    {
      "cell_type": "code",
      "source": [
        "maidvalues = data['maid_room'].value_counts()\n",
        "mycolors = [\"#345251\", \"#369E9B\"]\n",
        "myexplode = [0, 0.1]\n",
        "plt.pie(maidvalues.values, labels=maidvalues.index,  colors = mycolors, explode = myexplode, shadow = True)\n",
        "plt.legend(title = 'No. of Maid Room')\n",
        "plt.show()"
      ],
      "metadata": {
        "id": "nZyQQDiftKYJ"
      },
      "execution_count": null,
      "outputs": []
    },
    {
      "cell_type": "code",
      "source": [
        "furnishedvalues = data['furnished'].value_counts()\n",
        "mycolors = [\"#345251\", \"#369E9B\"]\n",
        "myexplode = [0, 0.1]\n",
        "plt.pie(furnishedvalues.values, labels=furnishedvalues.index,  colors = mycolors, explode = myexplode, shadow = True)\n",
        "plt.legend(title = 'Furnished')\n",
        "plt.show()"
      ],
      "metadata": {
        "id": "EGLIEjoNtlTN"
      },
      "execution_count": null,
      "outputs": []
    },
    {
      "cell_type": "code",
      "source": [
        "acvalues = data['ac'].value_counts()\n",
        "mycolors = [\"#369E9B\", \"#345251\"]\n",
        "myexplode = [0, 0.05]\n",
        "plt.pie(acvalues.values, labels=acvalues.index,  colors = mycolors, explode = myexplode, shadow = True)\n",
        "plt.legend(title = 'AC')\n",
        "plt.show()"
      ],
      "metadata": {
        "id": "RCRtM-0Ft8Z0"
      },
      "execution_count": null,
      "outputs": []
    },
    {
      "cell_type": "code",
      "source": [
        "roofvalues = data['roof'].value_counts()\n",
        "mycolors = [\"#369E9B\", \"#345251\"]\n",
        "myexplode = [0, 0.06]\n",
        "plt.pie(roofvalues.values, labels=roofvalues.index,  colors = mycolors, explode = myexplode, shadow = True)\n",
        "plt.legend(title = 'Roof')\n",
        "plt.show()"
      ],
      "metadata": {
        "id": "w041yTCbuTeu"
      },
      "execution_count": null,
      "outputs": []
    },
    {
      "cell_type": "code",
      "source": [
        "poolvalues = data['pool'].value_counts()\n",
        "mycolors = [ \"#345251\", \"#369E9B\"]\n",
        "myexplode = [0, 0.1]\n",
        "plt.pie(poolvalues.values, labels=poolvalues.index,  colors = mycolors, explode = myexplode, shadow = True)\n",
        "plt.legend(title = 'Pool')\n",
        "plt.show()"
      ],
      "metadata": {
        "id": "M9tvh4mPuiLh"
      },
      "execution_count": null,
      "outputs": []
    },
    {
      "cell_type": "code",
      "source": [
        "frontyardvalues = data['frontyard'].value_counts()\n",
        "mycolors = [\"#369E9B\", \"#345251\"]\n",
        "myexplode = [0, 0.1]\n",
        "plt.pie(frontyardvalues.values, labels=frontyardvalues.index,  colors = mycolors, explode = myexplode, shadow = True)\n",
        "plt.legend(title = 'Frontyard')\n",
        "plt.show()"
      ],
      "metadata": {
        "id": "Ii4P3Cqiu2zr"
      },
      "execution_count": null,
      "outputs": []
    },
    {
      "cell_type": "code",
      "source": [
        "basementvalues = data['basement'].value_counts()\n",
        "mycolors = [\"#345251\", \"#369E9B\"]\n",
        "myexplode = [0, 0.2]\n",
        "plt.pie(basementvalues.values, labels=basementvalues.index,  colors = mycolors, explode = myexplode, shadow = True)\n",
        "plt.legend(title = 'Basement')\n",
        "plt.show()"
      ],
      "metadata": {
        "id": "SEpyK7D0ve_M"
      },
      "execution_count": null,
      "outputs": []
    },
    {
      "cell_type": "code",
      "source": [
        "duplexvalues = data['duplex'].value_counts()\n",
        "mycolors = [\"#345251\", \"#369E9B\"]\n",
        "myexplode = [0, 0.02]\n",
        "plt.pie(duplexvalues.values, labels=duplexvalues.index,  colors = mycolors, explode = myexplode, shadow = True)\n",
        "plt.legend(title = 'Duplex')\n",
        "plt.show()"
      ],
      "metadata": {
        "id": "lTqyJ9CBvw7Q"
      },
      "execution_count": null,
      "outputs": []
    },
    {
      "cell_type": "code",
      "source": [
        "stairsvalues = data['stairs'].value_counts()\n",
        "mycolors = [\"#345251\", \"#369E9B\"]\n",
        "myexplode = [0, 0.1]\n",
        "plt.pie(stairsvalues.values, labels=stairsvalues.index,  colors = mycolors, explode = myexplode, shadow = True)\n",
        "plt.legend(title = 'Stairs')\n",
        "plt.show()"
      ],
      "metadata": {
        "id": "UPLIRopCwG-F"
      },
      "execution_count": null,
      "outputs": []
    },
    {
      "cell_type": "code",
      "source": [
        "elevatorvalues = data['elevator'].value_counts()\n",
        "mycolors = [\"#369E9B\", \"#345251\"]\n",
        "myexplode = [0, 0.1]\n",
        "plt.pie(elevatorvalues.values, labels=elevatorvalues.index,  colors = mycolors, explode = myexplode, shadow = True)\n",
        "plt.legend(title = 'Elevator')\n",
        "plt.show()"
      ],
      "metadata": {
        "id": "m73J16nHwbuQ"
      },
      "execution_count": null,
      "outputs": []
    },
    {
      "cell_type": "code",
      "source": [
        "fireplacevalues = data['fireplace'].value_counts()\n",
        "mycolors = [\"#345251\", \"#369E9B\"]\n",
        "myexplode = [0, 0.1]\n",
        "plt.pie(fireplacevalues.values, labels=fireplacevalues.index,  colors = mycolors, explode = myexplode, shadow = True)\n",
        "plt.legend(title = 'Fireplace')\n",
        "plt.show()"
      ],
      "metadata": {
        "id": "KpMfWENWx4dQ"
      },
      "execution_count": null,
      "outputs": []
    },
    {
      "cell_type": "code",
      "source": [
        "data['price'].value_counts().sort_index().plot.line()"
      ],
      "metadata": {
        "id": "YJkXiKUnyLKd"
      },
      "execution_count": null,
      "outputs": []
    },
    {
      "cell_type": "code",
      "source": [
        "plt.figure(figsize=(12, 8))\n",
        "custom_palette = [  '#369E9B', '#48D1CC', '#8BD9D6', '#1C5250', '#456B6A', '#659E9C', '#70AEAC', '#246B69', '#4E7A79']\n",
        "color= ['#133837','#2A5C5A','#0D8482','#84CFCA','#6BA8A4','#76B8B5']\n",
        "sns.heatmap(correlation_matrix, annot=True, cmap=color, linewidths=0.5)\n",
        "plt.title('Correlation Heatmap')\n",
        "plt.show()"
      ],
      "metadata": {
        "id": "bJTcq-FFaYcM"
      },
      "execution_count": null,
      "outputs": []
    },
    {
      "cell_type": "code",
      "source": [
        "colors = ['#369E9B','#1C5250', '#456B6A','#8BD9D6']\n",
        "ax= sns.barplot(data=data, x='city', y='price',palette=colors)\n",
        "plt.rcParams['font.family'] = 'sans-serif'\n",
        "custom_xticks =  [\"Riyadh\", \"Jeddah\",\"Dammam\", 'Khobar']\n",
        "ax.set_xticklabels(custom_xticks)\n",
        "plt.show()"
      ],
      "metadata": {
        "id": "ExQ_XyUtI6oK"
      },
      "execution_count": null,
      "outputs": []
    },
    {
      "cell_type": "code",
      "source": [
        "ax= sns.barplot(data=data, x='front', y='price',palette=colors)\n",
        "custom_xticks = ['North','South', 'West', 'East', 'South East',' Southwest','Northwest',  'Northeast', '3 streets', '4 streets']\n",
        "ax.set_xticklabels(custom_xticks, rotation=90)"
      ],
      "metadata": {
        "id": "CGdf3-BMJog4"
      },
      "execution_count": null,
      "outputs": []
    },
    {
      "cell_type": "code",
      "source": [
        "sns.scatterplot(x=data['size'], y=data['price'], marker='o', color='#1C5250')\n",
        "plt.xlim(0, 4000)"
      ],
      "metadata": {
        "id": "bwDC0JvqK-z0"
      },
      "execution_count": null,
      "outputs": []
    },
    {
      "cell_type": "code",
      "source": [
        "plt.barh(data['property_age'], data['price'], color=colors)"
      ],
      "metadata": {
        "id": "pYjhlce9PrZa"
      },
      "execution_count": null,
      "outputs": []
    },
    {
      "cell_type": "code",
      "source": [
        "sns.barplot(data=data, x='bedrooms', y='price',palette=colors)"
      ],
      "metadata": {
        "id": "jwog2_AbS4tS"
      },
      "execution_count": null,
      "outputs": []
    },
    {
      "cell_type": "code",
      "source": [
        "sns.barplot(data=data, x='bathrooms', y='price',palette=colors)"
      ],
      "metadata": {
        "id": "hXgMAsryWzTb"
      },
      "execution_count": null,
      "outputs": []
    },
    {
      "cell_type": "code",
      "source": [
        "sns.barplot(data=data, x='livingrooms', y='price',palette=colors)"
      ],
      "metadata": {
        "id": "18blFtdqYx5c"
      },
      "execution_count": null,
      "outputs": []
    },
    {
      "cell_type": "code",
      "source": [
        "sns.barplot(data=data, x='kitchen', y='price',palette=colors)"
      ],
      "metadata": {
        "id": "hBU87SIXY2LR"
      },
      "execution_count": null,
      "outputs": []
    },
    {
      "cell_type": "code",
      "source": [
        "sns.barplot(data=data, x='garage', y='price',palette=colors)"
      ],
      "metadata": {
        "id": "fn6nM9EaZBiX"
      },
      "execution_count": null,
      "outputs": []
    },
    {
      "cell_type": "code",
      "source": [
        "sns.barplot(data=data, x='driver_room', y='price',palette=colors)"
      ],
      "metadata": {
        "id": "jZeKbT2lZFs5"
      },
      "execution_count": null,
      "outputs": []
    },
    {
      "cell_type": "code",
      "source": [
        "sns.barplot(data=data, x='maid_room', y='price',palette=colors)"
      ],
      "metadata": {
        "id": "-sc9sw0iZJkP"
      },
      "execution_count": null,
      "outputs": []
    },
    {
      "cell_type": "code",
      "source": [
        "sns.barplot(data=data, x='furnished', y='price',palette=colors)"
      ],
      "metadata": {
        "id": "UdrQTU91ZRNv"
      },
      "execution_count": null,
      "outputs": []
    },
    {
      "cell_type": "code",
      "source": [
        "sns.barplot(data=data, x='ac', y='price',palette=colors)"
      ],
      "metadata": {
        "id": "bQzhIBZlZXRn"
      },
      "execution_count": null,
      "outputs": []
    },
    {
      "cell_type": "code",
      "source": [
        "sns.barplot(data=data, x='roof', y='price',palette=colors)"
      ],
      "metadata": {
        "id": "bAaEnxK0ZbEJ"
      },
      "execution_count": null,
      "outputs": []
    },
    {
      "cell_type": "code",
      "source": [
        "sns.barplot(data=data, x='pool', y='price',palette=colors)"
      ],
      "metadata": {
        "id": "6nxxwi3OZfVW"
      },
      "execution_count": null,
      "outputs": []
    },
    {
      "cell_type": "code",
      "source": [
        "sns.barplot(data=data, x='frontyard', y='price',palette=colors)"
      ],
      "metadata": {
        "id": "HysLsKFXZjo_"
      },
      "execution_count": null,
      "outputs": []
    },
    {
      "cell_type": "code",
      "source": [
        "sns.barplot(data=data, x='basement', y='price',palette=colors)"
      ],
      "metadata": {
        "id": "Erf82okrZpWC"
      },
      "execution_count": null,
      "outputs": []
    },
    {
      "cell_type": "code",
      "source": [
        "sns.barplot(data=data, x='duplex', y='price',palette=colors)"
      ],
      "metadata": {
        "id": "5iCibeLLZtiN"
      },
      "execution_count": null,
      "outputs": []
    },
    {
      "cell_type": "code",
      "source": [
        "sns.barplot(data=data, x='stairs', y='price',palette=colors)"
      ],
      "metadata": {
        "id": "NvLH0Md9Z1Zk"
      },
      "execution_count": null,
      "outputs": []
    },
    {
      "cell_type": "code",
      "source": [
        "sns.barplot(data=data, x='elevator', y='price',palette=colors)"
      ],
      "metadata": {
        "id": "6JoYaUgyZ6bw"
      },
      "execution_count": null,
      "outputs": []
    },
    {
      "cell_type": "code",
      "source": [
        "sns.barplot(data=data, x='fireplace', y='price',palette=colors)"
      ],
      "metadata": {
        "id": "pUxAbh6NaAeh"
      },
      "execution_count": null,
      "outputs": []
    },
    {
      "cell_type": "code",
      "source": [
        "sns.boxplot(data=data).set(title=\"Box Plot of Scores\")\n",
        "plt.xticks(rotation=90)\n",
        "plt.show()"
      ],
      "metadata": {
        "id": "2UfJxwIR57fA"
      },
      "execution_count": null,
      "outputs": []
    },
    {
      "cell_type": "code",
      "source": [
        "data.isnull().sum()"
      ],
      "metadata": {
        "id": "FG4um26l6BP6"
      },
      "execution_count": null,
      "outputs": []
    },
    {
      "cell_type": "code",
      "source": [
        "data.columns"
      ],
      "metadata": {
        "id": "ApWwUumNi9XG"
      },
      "execution_count": null,
      "outputs": []
    },
    {
      "cell_type": "code",
      "source": [
        "label_encoder = LabelEncoder()"
      ],
      "metadata": {
        "id": "ZkeR93oz7QW7"
      },
      "execution_count": null,
      "outputs": []
    },
    {
      "cell_type": "code",
      "source": [
        "data['city'] = label_encoder.fit_transform(data['city'])"
      ],
      "metadata": {
        "id": "ftFQ-xpR8WMB"
      },
      "execution_count": null,
      "outputs": []
    },
    {
      "cell_type": "code",
      "source": [
        "data['district'] = label_encoder.fit_transform(data['district'])"
      ],
      "metadata": {
        "id": "Nm7hQUCl8gFd"
      },
      "execution_count": null,
      "outputs": []
    },
    {
      "cell_type": "code",
      "source": [
        "data['front'] = label_encoder.fit_transform(data['front'])"
      ],
      "metadata": {
        "id": "VLhuWfyh8m8T"
      },
      "execution_count": null,
      "outputs": []
    },
    {
      "cell_type": "code",
      "source": [
        "data.drop('details', axis=1, inplace=True)"
      ],
      "metadata": {
        "id": "vz_dwGMk8270"
      },
      "execution_count": null,
      "outputs": []
    },
    {
      "cell_type": "code",
      "source": [
        "data.head()"
      ],
      "metadata": {
        "id": "K10-MugT9od1"
      },
      "execution_count": null,
      "outputs": []
    },
    {
      "cell_type": "code",
      "source": [
        "X = data.drop('price', axis=1)\n",
        "y = data['price']  # y contains only the 'price' column"
      ],
      "metadata": {
        "id": "Wa_n9Jif9qNm"
      },
      "execution_count": null,
      "outputs": []
    },
    {
      "cell_type": "code",
      "source": [
        "X_train, X_test, y_train, y_test = train_test_split(X, y, test_size=0.2, random_state=42)"
      ],
      "metadata": {
        "id": "wZxPr_G2AVX6"
      },
      "execution_count": null,
      "outputs": []
    },
    {
      "cell_type": "code",
      "source": [
        "linear_model = LinearRegression()\n",
        "\n",
        "# Fit the model on the training data\n",
        "linear_model.fit(X_train, y_train)\n",
        "\n",
        "# Make predictions on the testing data\n",
        "y_pred = linear_model.predict(X_test)\n",
        "\n",
        "# Evaluate the model using metrics\n",
        "mse = mean_squared_error(y_test, y_pred)\n",
        "r2 = r2_score(y_test, y_pred)\n",
        "\n",
        "print(f\"Mean Squared Error (MSE): {mse}\")\n",
        "print(f\"R-squared (R2) Score: {r2}\")\n"
      ],
      "metadata": {
        "id": "iOijLG2YAY0X"
      },
      "execution_count": null,
      "outputs": []
    },
    {
      "cell_type": "code",
      "source": [
        "# Create a PolynomialFeatures object to generate polynomial features\n",
        "poly = PolynomialFeatures(degree=2)  # You can specify the degree of the polynomial\n",
        "\n",
        "# Transform the independent variable data for training and testing to include polynomial features\n",
        "X_train_poly = poly.fit_transform(X_train)\n",
        "X_test_poly = poly.transform(X_test)"
      ],
      "metadata": {
        "id": "p3OAga6zCi05"
      },
      "execution_count": null,
      "outputs": []
    },
    {
      "cell_type": "code",
      "source": [
        "model = LinearRegression()\n",
        "model.fit(X_train_poly, y_train)\n",
        "y_test_pred = model.predict(X_test_poly)\n"
      ],
      "metadata": {
        "id": "yqDiYG9yDtkM"
      },
      "execution_count": null,
      "outputs": []
    },
    {
      "cell_type": "code",
      "source": [
        "mse = mean_squared_error(y_test, y_pred)\n",
        "r2 = r2_score(y_test, y_pred)\n",
        "\n",
        "print(f\"Mean Squared Error (MSE): {mse}\")\n",
        "print(f\"R-squared (R2) Score: {r2}\")\n"
      ],
      "metadata": {
        "id": "iCaTERHAD7ZA"
      },
      "execution_count": null,
      "outputs": []
    },
    {
      "cell_type": "code",
      "source": [
        "# Select features (independent variables) and the target variable\n",
        "X = data[['city', 'district', 'size', 'property_age', 'bedrooms', 'bathrooms', 'livingrooms',\n",
        "          'kitchen', 'garage', 'driver_room', 'maid_room', 'furnished', 'ac', 'roof', 'pool',\n",
        "          'frontyard', 'basement', 'duplex', 'stairs', 'elevator', 'fireplace']]\n",
        "y = data['price']\n",
        "\n",
        "# Split the data into training and testing sets\n",
        "X_train, X_test, y_train, y_test = train_test_split(X, y, test_size=0.2, random_state=42)\n",
        "\n",
        "# Create a Linear Regression model\n",
        "model = LinearRegression()\n",
        "\n",
        "# Fit the model to the training data\n",
        "model.fit(X_train, y_train)\n",
        "\n",
        "# Make predictions on the testing data\n",
        "y_pred = model.predict(X_test)\n",
        "\n",
        "# Evaluate the model\n",
        "mse = mean_squared_error(y_test, y_pred)\n",
        "r2 = r2_score(y_test, y_pred)\n",
        "\n",
        "print(f\"Mean Squared Error (MSE): {mse}\")\n",
        "print(f\"R-squared (R2) Score: {r2}\")"
      ],
      "metadata": {
        "id": "Arq5LrX0EC0v"
      },
      "execution_count": null,
      "outputs": []
    },
    {
      "cell_type": "code",
      "source": [
        "# Create a Random Forest Regressor model\n",
        "model = RandomForestRegressor(n_estimators=100, random_state=42)\n",
        "\n",
        "# Fit the model to the training data\n",
        "model.fit(X_train, y_train)\n",
        "\n",
        "# Make predictions on the testing data\n",
        "y_pred = model.predict(X_test)\n",
        "\n",
        "# Evaluate the model\n",
        "mse = mean_squared_error(y_test, y_pred)\n",
        "r2 = r2_score(y_test, y_pred)\n",
        "\n",
        "print(f\"Mean Squared Error (MSE): {mse}\")\n",
        "print(f\"R-squared (R2) Score: {r2}\")"
      ],
      "metadata": {
        "id": "1LHO4_7_F3GH"
      },
      "execution_count": null,
      "outputs": []
    },
    {
      "cell_type": "code",
      "source": [
        "\n",
        "# Create a Random Forest Regressor model\n",
        "model = RandomForestRegressor()\n",
        "\n",
        "# Define hyperparameters for tuning\n",
        "param_grid = {\n",
        "    'n_estimators': [100, 200, 300],  # Adjust the number of trees in the forest\n",
        "    'max_depth': [None, 10, 20, 30],  # Adjust the maximum depth of the trees\n",
        "    'min_samples_split': [2, 5, 10],  # Adjust the minimum number of samples required to split an internal node\n",
        "}\n",
        "\n",
        "# Create a GridSearchCV object for hyperparameter tuning\n",
        "grid_search = GridSearchCV(estimator=model, param_grid=param_grid, cv=5, n_jobs=-1, scoring='neg_mean_squared_error')\n",
        "\n",
        "# Fit the GridSearchCV to the training data\n",
        "grid_search.fit(X_train, y_train)\n",
        "\n",
        "# Get the best model from hyperparameter tuning\n",
        "best_model = grid_search.best_estimator_\n",
        "\n",
        "# Make predictions on the testing data\n",
        "y_pred = best_model.predict(X_test)\n",
        "\n",
        "# Evaluate the model\n",
        "mse = mean_squared_error(y_test, y_pred)\n",
        "r2 = r2_score(y_test, y_pred)\n",
        "\n",
        "print(f\"Mean Squared Error (MSE): {mse}\")\n",
        "print(f\"R-squared (R2) Score: {r2}\")"
      ],
      "metadata": {
        "id": "74tb6vcjGFpp"
      },
      "execution_count": null,
      "outputs": []
    },
    {
      "cell_type": "code",
      "source": [
        "\n",
        "param_space = {\n",
        "    'n_estimators': hp.quniform('n_estimators', 100, 1000, 1),\n",
        "    'max_depth': hp.quniform('max_depth', 3, 10, 1),\n",
        "    'learning_rate': hp.loguniform('learning_rate', -5, 0),\n",
        "    'subsample': hp.uniform('subsample', 0.5, 1),\n",
        "}\n"
      ],
      "metadata": {
        "id": "QWz7dFw2LFrX"
      },
      "execution_count": null,
      "outputs": []
    },
    {
      "cell_type": "code",
      "source": [
        "\n",
        "def objective(params):\n",
        "    model = GradientBoostingRegressor(\n",
        "        n_estimators=int(params['n_estimators']),\n",
        "        max_depth=int(params['max_depth']),\n",
        "        learning_rate=params['learning_rate'],\n",
        "        subsample=params['subsample'],\n",
        "        random_state=42\n",
        "    )\n",
        "    score = -cross_val_score(model, X_train, y_train, cv=5, scoring='neg_mean_squared_error').mean()\n",
        "    return {'loss': score, 'status': STATUS_OK}\n"
      ],
      "metadata": {
        "id": "m6BGCDqLLfeY"
      },
      "execution_count": null,
      "outputs": []
    },
    {
      "cell_type": "code",
      "source": [
        "# Use Hyperopt to find the best hyperparameters\n",
        "trials = Trials()\n",
        "best = fmin(fn=objective, space=param_space, algo=tpe.suggest, max_evals=100, trials=trials)\n",
        "\n",
        "# Create the final model with the best hyperparameters\n",
        "best_model = GradientBoostingRegressor(\n",
        "    n_estimators=int(best['n_estimators']),\n",
        "    max_depth=int(best['max_depth']),\n",
        "    learning_rate=best['learning_rate'],\n",
        "    subsample=best['subsample'],\n",
        "    random_state=42\n",
        ")"
      ],
      "metadata": {
        "id": "7O_lmW3RL9V0"
      },
      "execution_count": null,
      "outputs": []
    },
    {
      "cell_type": "code",
      "source": [
        "\n",
        "# Fit the model to the training data\n",
        "best_model.fit(X_train, y_train)\n",
        "\n",
        "# Make predictions on the testing data\n",
        "y_pred = best_model.predict(X_test)\n",
        "\n",
        "# Evaluate the model\n",
        "mse = mean_squared_error(y_test, y_pred)\n",
        "r2 = r2_score(y_test, y_pred)\n",
        "\n",
        "print(f\"Mean Squared Error (MSE): {mse}\")\n",
        "print(f\"R-squared (R2) Score: {r2}\")"
      ],
      "metadata": {
        "id": "Q9H6m1SnMAWW"
      },
      "execution_count": null,
      "outputs": []
    },
    {
      "cell_type": "code",
      "source": [
        "# Initialize regression models\n",
        "models = [\n",
        "    LinearRegression(),\n",
        "    Ridge(),\n",
        "    Lasso(),\n",
        "    DecisionTreeRegressor(),\n",
        "    RandomForestRegressor(),\n",
        "    SVR()\n",
        "]\n",
        "\n",
        "# Train and evaluate each model\n",
        "for model in models:\n",
        "    model.fit(X_train, y_train)\n",
        "    y_pred = model.predict(X_test)\n",
        "\n",
        "    mse = mean_squared_error(y_test, y_pred)\n",
        "    r2 = r2_score(y_test, y_pred)\n",
        "\n",
        "    model_name = model.__class__.__name__\n",
        "    print(f\"{model_name} - Mean Squared Error (MSE): {mse}\")\n",
        "    print(f\"{model_name} - R-squared (R2) Score: {r2}\")\n",
        "    print()\n"
      ],
      "metadata": {
        "id": "8WrBZfrNdVZ6"
      },
      "execution_count": null,
      "outputs": []
    },
    {
      "cell_type": "code",
      "source": [],
      "metadata": {
        "id": "ojb6lp4wThky"
      },
      "execution_count": null,
      "outputs": []
    }
  ]
}